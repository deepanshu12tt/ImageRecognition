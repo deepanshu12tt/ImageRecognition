{
  "cells": [
    {
      "cell_type": "code",
      "execution_count": 56,
      "metadata": {
        "id": "NZ_pbRzzxpR6"
      },
      "outputs": [],
      "source": [
        "import tensorflow as tf\n",
        "import numpy as np\n",
        "from tensorflow.keras import datasets , layers , models\n",
        "import matplotlib.pyplot as plt"
      ]
    },
    {
      "cell_type": "code",
      "execution_count": 56,
      "metadata": {
        "id": "U4WklEM_SZnI"
      },
      "outputs": [],
      "source": []
    },
    {
      "cell_type": "code",
      "execution_count": 57,
      "metadata": {
        "colab": {
          "base_uri": "https://localhost:8080/"
        },
        "id": "ZS3-WaLAyHvQ",
        "outputId": "43c30251-2d81-4ec2-e536-ce5cb8a0be81"
      },
      "outputs": [
        {
          "output_type": "execute_result",
          "data": {
            "text/plain": [
              "(50000, 32, 32, 3)"
            ]
          },
          "metadata": {},
          "execution_count": 57
        }
      ],
      "source": [
        "(X_train , y_train) , (X_test , y_test) = datasets.cifar10.load_data()\n",
        "X_train.shape"
      ]
    },
    {
      "cell_type": "code",
      "execution_count": 58,
      "metadata": {
        "colab": {
          "base_uri": "https://localhost:8080/"
        },
        "id": "pfzastlnx-8s",
        "outputId": "173f77b2-4c83-492d-ff4d-bd552b39dd5a"
      },
      "outputs": [
        {
          "output_type": "execute_result",
          "data": {
            "text/plain": [
              "(10000, 32, 32, 3)"
            ]
          },
          "metadata": {},
          "execution_count": 58
        }
      ],
      "source": [
        "X_test.shape"
      ]
    },
    {
      "cell_type": "code",
      "execution_count": 59,
      "metadata": {
        "colab": {
          "base_uri": "https://localhost:8080/"
        },
        "id": "ruA8WWWQz3hb",
        "outputId": "4c309fa8-d887-4d54-c84a-3a7411f5fce4"
      },
      "outputs": [
        {
          "output_type": "execute_result",
          "data": {
            "text/plain": [
              "array([[6],\n",
              "       [9],\n",
              "       [9],\n",
              "       [4],\n",
              "       [1]], dtype=uint8)"
            ]
          },
          "metadata": {},
          "execution_count": 59
        }
      ],
      "source": [
        "y_train[:5] #Since this is an 2d array what we need is just the values 6 or 9 which are actually index so we need to reshape this array or y_train"
      ]
    },
    {
      "cell_type": "code",
      "execution_count": 60,
      "metadata": {
        "colab": {
          "base_uri": "https://localhost:8080/"
        },
        "id": "u5CvVvjq0t5e",
        "outputId": "41003c8f-fbd7-4149-899b-cc5556e61a47"
      },
      "outputs": [
        {
          "output_type": "execute_result",
          "data": {
            "text/plain": [
              "array([6, 9, 9, 4, 1], dtype=uint8)"
            ]
          },
          "metadata": {},
          "execution_count": 60
        }
      ],
      "source": [
        "#Reshaping y_train\n",
        "y_train = y_train.reshape(-1 , )\n",
        "y_train[:5]"
      ]
    },
    {
      "cell_type": "code",
      "execution_count": 61,
      "metadata": {
        "id": "I6bfKHegz9yP"
      },
      "outputs": [],
      "source": [
        "classes = ['airplane' , 'automobile' , 'bird' , 'cat' , 'deer' , 'dog' , 'frog' , 'horse' , 'ship' , 'truck']"
      ]
    },
    {
      "cell_type": "code",
      "execution_count": 62,
      "metadata": {
        "id": "pmKZKpPBy4nE"
      },
      "outputs": [],
      "source": [
        "def plot_sample(X , y , index):\n",
        "  plt.figure(figsize = (15,2))\n",
        "  plt.imshow(X_train[index])\n",
        "  plt.xlabel(classes[y[index]])"
      ]
    },
    {
      "cell_type": "code",
      "execution_count": 63,
      "metadata": {
        "colab": {
          "base_uri": "https://localhost:8080/",
          "height": 237
        },
        "id": "egdvhEyV1N_E",
        "outputId": "35b8d761-ec72-4392-fa6a-715f08bfde3d"
      },
      "outputs": [
        {
          "output_type": "display_data",
          "data": {
            "text/plain": [
              "<Figure size 1500x200 with 1 Axes>"
            ],
            "image/png": "[encoded data removed]"
          },
          "metadata": {}
        }
      ],
      "source": [
        "plot_sample(X_train , y_train , 0)"
      ]
    },
    {
      "cell_type": "code",
      "execution_count": 64,
      "metadata": {
        "colab": {
          "base_uri": "https://localhost:8080/",
          "height": 237
        },
        "id": "Aen7soBS1b38",
        "outputId": "5a7e385f-07cd-4aa1-d456-10a52b9c0e14"
      },
      "outputs": [
        {
          "output_type": "display_data",
          "data": {
            "text/plain": [
              "<Figure size 1500x200 with 1 Axes>"
            ],
            "image/png": "[encoded data removed]"
          },
          "metadata": {}
        }
      ],
      "source": [
        "plot_sample(X_train , y_train , 1)"
      ]
    },
    {
      "cell_type": "code",
      "execution_count": 65,
      "metadata": {
        "id": "ht3OsFgV1fj0"
      },
      "outputs": [],
      "source": [
        "#Normalizing our data we need to divide each pixel value by 255 to make it in 0 to 1 range\n",
        "X_train = X_train / 255\n",
        "X_test = X_test / 255"
      ]
    },
    {
      "cell_type": "code",
      "execution_count": 66,
      "metadata": {
        "colab": {
          "base_uri": "https://localhost:8080/"
        },
        "id": "hUfdk8wc1x4r",
        "outputId": "862b87f9-78df-4f8c-9b0d-36c8bce4f827"
      },
      "outputs": [
        {
          "output_type": "stream",
          "name": "stdout",
          "text": [
            "Epoch 1/5\n",
            "1563/1563 [==============================] - 146s 93ms/step - loss: 1.8148 - accuracy: 0.3520\n",
            "Epoch 2/5\n",
            "1563/1563 [==============================] - 139s 89ms/step - loss: 1.6263 - accuracy: 0.4249\n",
            "Epoch 3/5\n",
            "1563/1563 [==============================] - 138s 89ms/step - loss: 1.5428 - accuracy: 0.4557\n",
            "Epoch 4/5\n",
            "1563/1563 [==============================] - 139s 89ms/step - loss: 1.4815 - accuracy: 0.4769\n",
            "Epoch 5/5\n",
            "1563/1563 [==============================] - 134s 86ms/step - loss: 1.4330 - accuracy: 0.4952\n"
          ]
        },
        {
          "output_type": "execute_result",
          "data": {
            "text/plain": [
              "<keras.src.callbacks.History at 0x7da199b00940>"
            ]
          },
          "metadata": {},
          "execution_count": 66
        }
      ],
      "source": [
        "#Building first a simple ANN\n",
        "ann = models.Sequential([\n",
        "                         layers.Flatten(input_shape = (32,32 ,3)) ,\n",
        "                         layers.Dense(3000 , activation = 'relu') ,\n",
        "                          layers.Dense(1000 , activation = 'relu') ,\n",
        "                         layers.Dense(10 , activation = 'sigmoid') ,\n",
        "])\n",
        "\n",
        "ann.compile(optimizer = 'SGD' , loss = 'sparse_categorical_crossentropy' , metrics = ['accuracy'])\n",
        "\n",
        "ann.fit(X_train , y_train , epochs = 5)"
      ]
    },
    {
      "cell_type": "code",
      "execution_count": 67,
      "metadata": {
        "colab": {
          "base_uri": "https://localhost:8080/"
        },
        "id": "ImGZKqvr4E2n",
        "outputId": "a82a4f04-e4f2-4b1a-81c8-1bf8e8c3e93c"
      },
      "outputs": [
        {
          "output_type": "stream",
          "name": "stdout",
          "text": [
            "313/313 [==============================] - 14s 44ms/step\n",
            "Classification_report: \n",
            "               precision    recall  f1-score   support\n",
            "\n",
            "           0       0.41      0.68      0.51      1000\n",
            "           1       0.51      0.62      0.56      1000\n",
            "           2       0.45      0.15      0.22      1000\n",
            "           3       0.43      0.05      0.08      1000\n",
            "           4       0.62      0.15      0.24      1000\n",
            "           5       0.36      0.45      0.40      1000\n",
            "           6       0.58      0.42      0.49      1000\n",
            "           7       0.35      0.68      0.46      1000\n",
            "           8       0.77      0.37      0.50      1000\n",
            "           9       0.36      0.73      0.49      1000\n",
            "\n",
            "    accuracy                           0.43     10000\n",
            "   macro avg       0.48      0.43      0.40     10000\n",
            "weighted avg       0.48      0.43      0.40     10000\n",
            "\n"
          ]
        }
      ],
      "source": [
        "from sklearn.metrics import confusion_matrix , classification_report\n",
        "import numpy as np\n",
        "y_pred = ann.predict(X_test)\n",
        "y_pred_classes = [np.argmax(element) for element in y_pred]\n",
        "\n",
        "print('Classification_report: \\n' , classification_report(y_test , y_pred_classes))"
      ]
    },
    {
      "cell_type": "code",
      "execution_count": 68,
      "metadata": {
        "colab": {
          "base_uri": "https://localhost:8080/"
        },
        "id": "e38228uE43bz",
        "outputId": "c8c4ed82-77c8-47d9-c1d8-0447e58ab048"
      },
      "outputs": [
        {
          "output_type": "stream",
          "name": "stdout",
          "text": [
            "Epoch 1/10\n",
            "1563/1563 [==============================] - 63s 40ms/step - loss: 1.4731 - accuracy: 0.4687\n",
            "Epoch 2/10\n",
            "1563/1563 [==============================] - 61s 39ms/step - loss: 1.1231 - accuracy: 0.6051\n",
            "Epoch 3/10\n",
            "1563/1563 [==============================] - 63s 40ms/step - loss: 0.9935 - accuracy: 0.6529\n",
            "Epoch 4/10\n",
            "1563/1563 [==============================] - 62s 40ms/step - loss: 0.9066 - accuracy: 0.6836\n",
            "Epoch 5/10\n",
            "1563/1563 [==============================] - 62s 39ms/step - loss: 0.8384 - accuracy: 0.7096\n",
            "Epoch 6/10\n",
            "1563/1563 [==============================] - 61s 39ms/step - loss: 0.7860 - accuracy: 0.7268\n",
            "Epoch 7/10\n",
            "1563/1563 [==============================] - 62s 40ms/step - loss: 0.7354 - accuracy: 0.7426\n",
            "Epoch 8/10\n",
            "1563/1563 [==============================] - 62s 40ms/step - loss: 0.6903 - accuracy: 0.7569\n",
            "Epoch 9/10\n",
            "1563/1563 [==============================] - 61s 39ms/step - loss: 0.6508 - accuracy: 0.7702\n",
            "Epoch 10/10\n",
            "1563/1563 [==============================] - 65s 41ms/step - loss: 0.6088 - accuracy: 0.7878\n"
          ]
        },
        {
          "output_type": "execute_result",
          "data": {
            "text/plain": [
              "<keras.src.callbacks.History at 0x7da199fa19c0>"
            ]
          },
          "metadata": {},
          "execution_count": 68
        }
      ],
      "source": [
        "#Using CNN to improve the performance of the model\n",
        "cnn = models.Sequential([\n",
        "                         #cnn\n",
        "                         layers.Conv2D(filters = 32 , kernel_size = (3,3) , activation = 'relu' , input_shape = (32,32,3)),\n",
        "                         layers.MaxPooling2D((2,2)) ,\n",
        "\n",
        "                         layers.Conv2D(filters = 64 , kernel_size = (3,3) , activation = 'relu' , input_shape = (32,32,3)),\n",
        "                         layers.MaxPooling2D((2,2)) ,\n",
        "                         #dense\n",
        "                         layers.Flatten() ,\n",
        "                         layers.Dense(64 , activation = 'relu') ,\n",
        "                         layers.Dense(10 , activation = 'softmax') ,\n",
        "])\n",
        "\n",
        "cnn.compile(optimizer = 'adam' , loss = 'sparse_categorical_crossentropy' , metrics = ['accuracy'])\n",
        "cnn.fit(X_train , y_train , epochs = 10)\n",
        "\n"
      ]
    },
    {
      "cell_type": "code",
      "execution_count": 69,
      "metadata": {
        "colab": {
          "base_uri": "https://localhost:8080/"
        },
        "id": "LD7E3QdA8qrv",
        "outputId": "e8845ff3-11bb-46a5-a2fa-b65673b78a6b"
      },
      "outputs": [
        {
          "output_type": "stream",
          "name": "stdout",
          "text": [
            "313/313 [==============================] - 4s 12ms/step - loss: 0.9348 - accuracy: 0.6916\n"
          ]
        },
        {
          "output_type": "execute_result",
          "data": {
            "text/plain": [
              "[0.9348341822624207, 0.6916000247001648]"
            ]
          },
          "metadata": {},
          "execution_count": 69
        }
      ],
      "source": [
        "cnn.evaluate(X_test , y_test)"
      ]
    },
    {
      "cell_type": "code",
      "execution_count": 70,
      "metadata": {
        "colab": {
          "base_uri": "https://localhost:8080/"
        },
        "id": "26T1sbHK8_OZ",
        "outputId": "01818061-fbd1-4dfa-e70f-040ec32d08e6"
      },
      "outputs": [
        {
          "output_type": "execute_result",
          "data": {
            "text/plain": [
              "array([3, 8, 8, 0, 6], dtype=uint8)"
            ]
          },
          "metadata": {},
          "execution_count": 70
        }
      ],
      "source": [
        "y_test = y_test.reshape(-1 , )\n",
        "y_test[:5]"
      ]
    },
    {
      "cell_type": "code",
      "execution_count": 71,
      "metadata": {
        "colab": {
          "base_uri": "https://localhost:8080/",
          "height": 237
        },
        "id": "qLRWeC6O9M4G",
        "outputId": "9b137656-207c-4f82-b9f2-55ed30c8dfc2"
      },
      "outputs": [
        {
          "output_type": "display_data",
          "data": {
            "text/plain": [
              "<Figure size 1500x200 with 1 Axes>"
            ],
            "image/png": "[encoded data removed]"
          },
          "metadata": {}
        }
      ],
      "source": [
        "plot_sample(X_test , y_test , 1)"
      ]
    },
    {
      "cell_type": "code",
      "execution_count": 72,
      "metadata": {
        "colab": {
          "base_uri": "https://localhost:8080/"
        },
        "id": "g3hZXSmg9ZCo",
        "outputId": "3f522c48-d274-49ff-9742-7d36aee1e1f8"
      },
      "outputs": [
        {
          "output_type": "stream",
          "name": "stdout",
          "text": [
            "313/313 [==============================] - 4s 12ms/step\n"
          ]
        },
        {
          "output_type": "execute_result",
          "data": {
            "text/plain": [
              "array([[5.8651500e-04, 8.1540558e-05, 3.6900556e-03, 9.1436827e-01,\n",
              "        7.5721781e-04, 5.3324506e-02, 2.8716335e-03, 2.5646682e-04,\n",
              "        2.3771985e-02, 2.9178607e-04],\n",
              "       [1.5180272e-03, 6.0537621e-02, 1.6613183e-06, 1.1354008e-06,\n",
              "        6.8052657e-05, 2.0497080e-06, 3.0210077e-07, 2.5917197e-07,\n",
              "        9.3782628e-01, 4.4630488e-05],\n",
              "       [2.0902017e-02, 1.4860678e-01, 4.5895162e-03, 8.9913057e-03,\n",
              "        6.8997068e-04, 4.7953308e-04, 4.2805888e-04, 1.1139334e-03,\n",
              "        7.9407007e-01, 2.0128798e-02],\n",
              "       [6.4519143e-01, 1.3993066e-03, 3.2027289e-01, 9.0612314e-04,\n",
              "        2.2998121e-02, 4.4567182e-04, 2.6872696e-03, 3.1646900e-04,\n",
              "        5.6914706e-03, 9.1121336e-05],\n",
              "       [7.1204857e-07, 1.4611243e-05, 1.3104962e-02, 1.9763026e-02,\n",
              "        7.4312639e-01, 1.4163980e-03, 2.2249231e-01, 2.2641550e-06,\n",
              "        7.7886099e-05, 1.5326279e-06]], dtype=float32)"
            ]
          },
          "metadata": {},
          "execution_count": 72
        }
      ],
      "source": [
        "y_pred = cnn.predict(X_test)\n",
        "y_pred[:5]"
      ]
    },
    {
      "cell_type": "code",
      "execution_count": 73,
      "metadata": {
        "colab": {
          "base_uri": "https://localhost:8080/"
        },
        "id": "ucjFFGOq9vnQ",
        "outputId": "9ead77d6-c082-4a1a-e086-38ddb412f1d5"
      },
      "outputs": [
        {
          "output_type": "execute_result",
          "data": {
            "text/plain": [
              "[3, 8, 8, 0, 4, 6, 1, 6, 3, 1, 4, 9, 5, 7, 9, 6, 5, 7, 8, 6]"
            ]
          },
          "metadata": {},
          "execution_count": 73
        }
      ],
      "source": [
        "y_classes = [np.argmax(element) for element in y_pred]\n",
        "y_classes[:20]"
      ]
    },
    {
      "cell_type": "code",
      "execution_count": 74,
      "metadata": {
        "colab": {
          "base_uri": "https://localhost:8080/"
        },
        "id": "JibdXHjC982T",
        "outputId": "f158ed2b-eacc-43ff-99db-50ac9d2073a6"
      },
      "outputs": [
        {
          "output_type": "execute_result",
          "data": {
            "text/plain": [
              "array([3, 8, 8, 0, 6, 6, 1, 6, 3, 1, 0, 9, 5, 7, 9, 8, 5, 7, 8, 6],\n",
              "      dtype=uint8)"
            ]
          },
          "metadata": {},
          "execution_count": 74
        }
      ],
      "source": [
        "y_test[:20]"
      ]
    },
    {
      "cell_type": "code",
      "execution_count": 75,
      "metadata": {
        "colab": {
          "base_uri": "https://localhost:8080/",
          "height": 35
        },
        "id": "K6DQ8Yrj-LZq",
        "outputId": "9622cda6-2f94-4d76-dcc0-f81f46ff8728"
      },
      "outputs": [
        {
          "output_type": "execute_result",
          "data": {
            "text/plain": [
              "'ship'"
            ],
            "application/vnd.google.colaboratory.intrinsic+json": {
              "type": "string"
            }
          },
          "metadata": {},
          "execution_count": 75
        }
      ],
      "source": [
        "classes[y_classes[1]]"
      ]
    },
    {
      "cell_type": "code",
      "execution_count": 76,
      "metadata": {
        "colab": {
          "base_uri": "https://localhost:8080/"
        },
        "id": "MWmwmIid-liH",
        "outputId": "bf58e961-1036-4f96-8227-635e059cd316"
      },
      "outputs": [
        {
          "output_type": "stream",
          "name": "stdout",
          "text": [
            "Classification report: \n",
            "               precision    recall  f1-score   support\n",
            "\n",
            "           0       0.82      0.62      0.71      1000\n",
            "           1       0.82      0.80      0.81      1000\n",
            "           2       0.60      0.56      0.58      1000\n",
            "           3       0.55      0.40      0.47      1000\n",
            "           4       0.61      0.68      0.64      1000\n",
            "           5       0.54      0.69      0.60      1000\n",
            "           6       0.75      0.79      0.77      1000\n",
            "           7       0.73      0.75      0.74      1000\n",
            "           8       0.78      0.81      0.79      1000\n",
            "           9       0.75      0.80      0.78      1000\n",
            "\n",
            "    accuracy                           0.69     10000\n",
            "   macro avg       0.69      0.69      0.69     10000\n",
            "weighted avg       0.69      0.69      0.69     10000\n",
            "\n"
          ]
        }
      ],
      "source": [
        "print('Classification report: \\n' , classification_report(y_test , y_classes))"
      ]
    },
    {
      "cell_type": "code",
      "execution_count": 76,
      "metadata": {
        "id": "FoDK-ilHx29n"
      },
      "outputs": [],
      "source": []
    },
    {
      "cell_type": "code",
      "execution_count": 77,
      "metadata": {
        "id": "7ybT1fF-6Ecr"
      },
      "outputs": [],
      "source": [
        "tf.saved_model.save(cnn , \"saved_model_keras_dir\")\n",
        "converter = tf.lite.TFLiteConverter.from_keras_model(cnn)\n",
        "tflite_model = converter.convert()\n",
        "\n",
        "# Save the model.\n",
        "with open('cnn.tflite', 'wb') as f:\n",
        "  f.write(tflite_model)\n"
      ]
    },
    {
      "cell_type": "code",
      "execution_count": 78,
      "metadata": {
        "id": "Msf7C4J-5dWq"
      },
      "outputs": [],
      "source": [
        "import os\n",
        "\n",
        "def recreate_labels():\n",
        "  # 1) We use this in order to ignore any hidden files that might be here.\n",
        "  # 'Datasets' is the name of the folder where we store our training data. The 'listdir' is used to fetch all the folder names.\n",
        "  labels = [folder for folder in datasets.cifar10.load_data()]\n",
        "\n",
        "  # 2) Then, we output the contents of each folder name to a file.\n",
        "  with open('labels.txt', 'w') as file:\n",
        "    for label in labels:\n",
        "      file.write(str(label))\n",
        "      file.write('\\n')\n",
        "\n",
        "recreate_labels()\n",
        "\n",
        "#os.listdir('datasets') if not folder.startswith('.')"
      ]
    }
  ],
  "metadata": {
    "colab": {
      "provenance": []
    },
    "kernelspec": {
      "display_name": "Python 3",
      "name": "python3"
    },
    "language_info": {
      "name": "python"
    }
  },
  "nbformat": 4,
  "nbformat_minor": 0
}